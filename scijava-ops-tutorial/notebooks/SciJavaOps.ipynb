{
 "cells": [
  {
   "cell_type": "markdown",
   "id": "2818d489",
   "metadata": {},
   "source": [
    "## Intro to SciJava Ops"
   ]
  },
  {
   "cell_type": "markdown",
   "id": "ff314187",
   "metadata": {},
   "source": [
    "Note that for this tutorial we assume this notebook was started from the provided `environment.yml` which ensures [scyjava](https://github.com/scijava/scyjava) and its dependencies are included in this python environment.\n",
    "\n",
    "Our first step is to use `scyjava` to point to the SciJava Ops tutorial endpoint, which gives us access to all the ops included in SciJava Ops and SciJava Ops Image:"
   ]
  },
  {
   "cell_type": "code",
   "execution_count": 1,
   "id": "6167ef70",
   "metadata": {
    "deletable": false,
    "editable": false
   },
   "outputs": [],
   "source": [
    "from scyjava import config, jimport\n",
    "config.endpoints.append('org.scijava:scijava-ops-tutorial:0-SNAPSHOT')"
   ]
  },
  {
   "cell_type": "markdown",
   "id": "f64b99a0",
   "metadata": {
    "editable": false
   },
   "source": [
    "Next we use the `gateways` module to set up `OpEnvironment` and `OpGateway` variables. These will be our entry points into matching and calling Ops."
   ]
  },
  {
   "cell_type": "code",
   "execution_count": 2,
   "id": "2278e33b",
   "metadata": {
    "deletable": false,
    "editable": false
   },
   "outputs": [
    {
     "name": "stderr",
     "output_type": "stream",
     "text": [
      "SLF4J: Failed to load class \"org.slf4j.impl.StaticLoggerBinder\".\n",
      "SLF4J: Defaulting to no-operation (NOP) logger implementation\n",
      "SLF4J: See http://www.slf4j.org/codes.html#StaticLoggerBinder for further details.\n"
     ]
    }
   ],
   "source": [
    "import gateways as g\n",
    "\n",
    "env = g.env\n",
    "ops = g.ops"
   ]
  },
  {
   "cell_type": "markdown",
   "id": "175e5dd8",
   "metadata": {},
   "source": [
    "In the rest of this tutorial we will open a remote image and use ops to apply a mean filter, multiply it by the original to improve the signal-to-noise ratio, and write the result to disk.\n",
    "\n",
    "First, we will import a few necessary classes - SCIFIO's IO module for reading/writing, and ImgLib2 classes required for the ops."
   ]
  },
  {
   "cell_type": "code",
   "execution_count": 3,
   "id": "9c2d2f5e",
   "metadata": {},
   "outputs": [],
   "source": [
    "io = jimport('io.scif.img.IO')\n",
    "Rect = jimport('net.imglib2.algorithm.neighborhood.RectangleShape')\n",
    "IntType = jimport('net.imglib2.type.numeric.integer.IntType')\n",
    "OOBFactory = jimport('net.imglib2.outofbounds.OutOfBoundsBorderFactory')"
   ]
  },
  {
   "cell_type": "markdown",
   "id": "c4be55be",
   "metadata": {},
   "source": [
    "Next we'll use specify an output path using `ipywidgets`. By default it will save to the same directory as this notebook."
   ]
  },
  {
   "cell_type": "code",
   "execution_count": 4,
   "id": "4716c077",
   "metadata": {
    "editable": false
   },
   "outputs": [
    {
     "data": {
      "application/vnd.jupyter.widget-view+json": {
       "model_id": "15c2f974522f4be8aa3676ff190ac9d3",
       "version_major": 2,
       "version_minor": 0
      },
      "text/plain": [
       "Text(value='lymp.tif', description='Output file:')"
      ]
     },
     "metadata": {},
     "output_type": "display_data"
    }
   ],
   "source": [
    "import ipywidgets, IPython.display\n",
    "\n",
    "path = ipywidgets.Text(\n",
    "    description='Output file:',\n",
    "    value='lymp.tif')\n",
    "\n",
    "IPython.display.display(path)"
   ]
  },
  {
   "cell_type": "markdown",
   "id": "709efb8a",
   "metadata": {},
   "source": [
    "Now we open our sample image"
   ]
  },
  {
   "cell_type": "code",
   "execution_count": 5,
   "id": "816cbfda",
   "metadata": {},
   "outputs": [],
   "source": [
    "img = io.open(\"https://imagej.net/images/lymp.tif\").getImg()"
   ]
  },
  {
   "cell_type": "markdown",
   "id": "bd7c8e86",
   "metadata": {},
   "source": [
    "We are going to run our Ops as Computers. This involves providing pre-allocated output containers that are populated by the ops. Here we create an empty image of the same type/dimensions to hold our mean value."
   ]
  },
  {
   "cell_type": "code",
   "execution_count": 6,
   "id": "98bcc69d-0fb8-4e46-af83-8c7b1a9ef272",
   "metadata": {},
   "outputs": [],
   "source": [
    "mean = ops.create.img(img)"
   ]
  },
  {
   "cell_type": "markdown",
   "id": "f65b5e96",
   "metadata": {},
   "source": [
    "Now we can apply the mean filter to our input `img` and save it in `mean`. Note the `out=mean` syntax: this is what indicates the call is a Computer Op."
   ]
  },
  {
   "cell_type": "code",
   "execution_count": 7,
   "id": "27a20cce",
   "metadata": {},
   "outputs": [],
   "source": [
    "ops.filter.mean(img, Rect(5, False), OOBFactory(), out=mean)"
   ]
  },
  {
   "cell_type": "markdown",
   "id": "ea043a40",
   "metadata": {},
   "source": [
    "Now we're going to multiply the input `img` and our `mean`-filtered image. This will give us a result that has an improved signal-to-noise ratio - but it could also result in pixel values that go beyond the default 8-bit limits. To ensure our final result will not overflow in this way, we create an empty `Int`-type image to hold the multiplied pixels."
   ]
  },
  {
   "cell_type": "code",
   "execution_count": 8,
   "id": "b3ec2b8f",
   "metadata": {},
   "outputs": [],
   "source": [
    "result = ops.create.img(img, IntType())"
   ]
  },
  {
   "cell_type": "markdown",
   "id": "285b70d1",
   "metadata": {},
   "source": [
    "Now we can call our multiplication Op, again as a Computer."
   ]
  },
  {
   "cell_type": "code",
   "execution_count": 9,
   "id": "5ebe3002",
   "metadata": {},
   "outputs": [],
   "source": [
    "ops.math.multiply(img, mean, out=result)"
   ]
  },
  {
   "cell_type": "markdown",
   "id": "68fc5324",
   "metadata": {},
   "source": [
    "And finally we save the result!"
   ]
  },
  {
   "cell_type": "code",
   "execution_count": 10,
   "id": "40d83e49",
   "metadata": {},
   "outputs": [],
   "source": [
    "import os\n",
    "if not os.path.isfile(path.value):\n",
    "    io.save(path.value, result)"
   ]
  },
  {
   "cell_type": "markdown",
   "id": "2e5d5108",
   "metadata": {},
   "source": [
    "Note that because of the `Int`-typing, this image may not render properly by standard previews. Open it in an application like [Fiji](https://imagej.net/Fiji) to get proper rendering."
   ]
  }
 ],
 "metadata": {
  "celltoolbar": "Edit Metadata",
  "kernelspec": {
   "display_name": "Python 3 (ipykernel)",
   "language": "python",
   "name": "python3"
  },
  "language_info": {
   "codemirror_mode": {
    "name": "ipython",
    "version": 3
   },
   "file_extension": ".py",
   "mimetype": "text/x-python",
   "name": "python",
   "nbconvert_exporter": "python",
   "pygments_lexer": "ipython3",
   "version": "3.11.7"
  }
 },
 "nbformat": 4,
 "nbformat_minor": 5
}
